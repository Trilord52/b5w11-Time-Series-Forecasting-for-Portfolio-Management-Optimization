{
 "cells": [
  {
   "cell_type": "markdown",
   "id": "0f577ac2",
   "metadata": {},
   "source": [
    "# Task 5: Backtesting the Optimized Portfolio\n",
    "# \n",
    " In this notebook, we simulate the performance of our recommended portfolio over the last year and compare it to a benchmark (60% SPY / 40% BND). We will:\n",
    " - Define a backtesting period.\n",
    " - Simulate portfolio returns using fixed weights.\n",
    " - Compare cumulative returns and Sharpe ratios to the benchmark.\n",
    " - Visualize and interpret the results.\n"
   ]
  },
  {
   "cell_type": "code",
   "execution_count": null,
   "id": "19e3bb54",
   "metadata": {},
   "outputs": [],
   "source": [
    "import numpy as np\n",
    "import pandas as pd\n",
    "import matplotlib.pyplot as plt"
   ]
  },
  {
   "cell_type": "markdown",
   "id": "df516c49",
   "metadata": {},
   "source": [
    " ## 1. Load Data and Weights\n",
    "# \n",
    " We use the same price data as before and load the optimal weights from Task 4.\n"
   ]
  },
  {
   "cell_type": "code",
   "execution_count": null,
   "id": "3d7b7bf5",
   "metadata": {},
   "outputs": [],
   "source": [
    "# Load prices and weights (from previous notebook or CSV)\n",
    "prices: DataFrame with columns ['TSLA', 'BND', 'SPY']\n",
    "weights_df: DataFrame with columns ['Max Sharpe', 'Min Volatility']\n",
    "\n",
    "# Example: Load from CSV if needed\n",
    "prices = pd.read_csv('../data/all_prices.csv', index_col=0, parse_dates=True)\n",
    "weights_df = pd.read_csv('../results/forecasting/optimal_portfolio_weights.csv', index_col=0)\n",
    "\n",
    "# Use Max Sharpe weights for strategy\n",
    "strategy_weights = weights_df['Max Sharpe'].values\n"
   ]
  },
  {
   "cell_type": "markdown",
   "id": "bf6df6dd",
   "metadata": {},
   "source": [
    "## 2. Define Backtesting Period\n",
    "# \n",
    "We use the last 252 trading days (approx. 1 year) for backtesting.\n"
   ]
  },
  {
   "cell_type": "markdown",
   "id": "aa34b5a3",
   "metadata": {},
   "source": [
    "## Rolling Window Backtest"
   ]
  },
  {
   "cell_type": "code",
   "execution_count": null,
   "id": "7b3dd257",
   "metadata": {},
   "outputs": [],
   "source": [
    "indow = 252\n",
    "strategy_cum_returns = []\n",
    "benchmark_cum_returns = []\n",
    "dates = []\n",
    "\n",
    "for start in range(0, len(prices) - window):\n",
    "    end = start + window\n",
    "    window_returns = prices.iloc[start:end].pct_change().dropna()\n",
    "    strat_ret = (window_returns * strategy_weights).sum(axis=1)\n",
    "    bench_ret = (window_returns * benchmark_weights).sum(axis=1)\n",
    "    strategy_cum_returns.append((1 + strat_ret).prod() - 1)\n",
    "    benchmark_cum_returns.append((1 + bench_ret).prod() - 1)\n",
    "    dates.append(prices.index[end-1])\n",
    "\n",
    "plt.figure(figsize=(12,6))\n",
    "plt.plot(dates, strategy_cum_returns, label='Strategy')\n",
    "plt.plot(dates, benchmark_cum_returns, label='Benchmark')\n",
    "plt.title('Rolling 1-Year Cumulative Returns')\n",
    "plt.legend()\n",
    "plt.show()"
   ]
  },
  {
   "cell_type": "code",
   "execution_count": null,
   "id": "a91616b5",
   "metadata": {},
   "outputs": [],
   "source": [
    "strategy_returns = (backtest_returns * strategy_weights).sum(axis=1)\n",
    "strategy_cum_returns = (1 + strategy_returns).cumprod()\n"
   ]
  },
  {
   "cell_type": "markdown",
   "id": "185913d1",
   "metadata": {},
   "source": [
    "# Transaction Costs"
   ]
  },
  {
   "cell_type": "code",
   "execution_count": null,
   "id": "6ea7586e",
   "metadata": {},
   "outputs": [],
   "source": [
    "transaction_cost = 0.001  # 0.1% per trade\n",
    "turnover = np.abs(np.diff(strategy_weights)).sum()\n",
    "strategy_returns_adj = strategy_returns - turnover * transaction_cost"
   ]
  },
  {
   "cell_type": "markdown",
   "id": "7e1fe514",
   "metadata": {},
   "source": [
    "## 4. Simulate Benchmark Portfolio\n",
    "# \n",
    "The benchmark is a simple 60% SPY / 40% BND allocation.\n"
   ]
  },
  {
   "cell_type": "code",
   "execution_count": null,
   "id": "e26e3f67",
   "metadata": {},
   "outputs": [],
   "source": [
    "benchmark_weights = np.array([0, 0.4, 0.6])\n",
    "benchmark_returns = (backtest_returns * benchmark_weights).sum(axis=1)\n",
    "benchmark_cum_returns = (1 + benchmark_returns).cumprod()\n"
   ]
  },
  {
   "cell_type": "markdown",
   "id": "713f5bef",
   "metadata": {},
   "source": [
    "## 5. Plot Cumulative Returns\n"
   ]
  },
  {
   "cell_type": "code",
   "execution_count": null,
   "id": "c8e4ed69",
   "metadata": {},
   "outputs": [],
   "source": [
    "plt.figure(figsize=(12,6))\n",
    "plt.plot(strategy_cum_returns, label='Strategy Portfolio')\n",
    "plt.plot(benchmark_cum_returns, label='60% SPY / 40% BND Benchmark')\n",
    "plt.title('Backtest: Cumulative Returns (Last 12 Months)')\n",
    "plt.xlabel('Date')\n",
    "plt.ylabel('Cumulative Return')\n",
    "plt.legend()\n",
    "plt.grid(True, alpha=0.3)\n",
    "plt.show()\n"
   ]
  },
  {
   "cell_type": "markdown",
   "id": "707f9e8a",
   "metadata": {},
   "source": [
    " ## 6. Calculate Sharpe Ratio and Total Return\n"
   ]
  },
  {
   "cell_type": "code",
   "execution_count": null,
   "id": "e0244688",
   "metadata": {},
   "outputs": [],
   "source": [
    "def sharpe_ratio(returns, risk_free_rate=0.0):\n",
    "    return (returns.mean() * 252 - risk_free_rate) / (returns.std() * np.sqrt(252))\n",
    "\n",
    "print(\"Strategy Sharpe Ratio:\", sharpe_ratio(strategy_returns))\n",
    "print(\"Benchmark Sharpe Ratio:\", sharpe_ratio(benchmark_returns))\n",
    "print(\"Strategy Total Return:\", strategy_cum_returns.iloc[-1] - 1)\n",
    "print(\"Benchmark Total Return:\", benchmark_cum_returns.iloc[-1] - 1)\n"
   ]
  },
  {
   "cell_type": "markdown",
   "id": "f0d7d88b",
   "metadata": {},
   "source": [
    " ## 7. Summary and Interpretation\n",
    "# \n",
    " - If the strategy portfolio outperforms the benchmark in both total return and Sharpe ratio, it demonstrates the value of using forecast-driven optimization.\n",
    " - If not, discuss possible reasons (market regime change, model limitations, etc.).\n",
    " - Note that backtest results are based on historical data and do not guarantee future performance.\n"
   ]
  },
  {
   "cell_type": "code",
   "execution_count": null,
   "id": "d7684315",
   "metadata": {},
   "outputs": [],
   "source": [
    "if strategy_cum_returns.iloc[-1] > benchmark_cum_returns.iloc[-1]:\n",
    "    print(\"\\nThe optimized strategy outperformed the benchmark over the backtest period.\")\n",
    "else:\n",
    "    print(\"\\nThe benchmark outperformed the optimized strategy over the backtest period.\")\n",
    "\n",
    "print(\"Note: Backtest results are based on historical data and do not guarantee future performance.\")\n"
   ]
  },
  {
   "cell_type": "markdown",
   "id": "cb7178e3",
   "metadata": {},
   "source": [
    "### **Conclusion**\n",
    "# \n",
    "We have backtested our optimized portfolio and compared it to a traditional benchmark. This provides valuable insight into the real-world viability of our model-driven investment strategy."
   ]
  }
 ],
 "metadata": {
  "kernelspec": {
   "display_name": ".venv",
   "language": "python",
   "name": "python3"
  },
  "language_info": {
   "name": "python",
   "version": "3.13.5"
  }
 },
 "nbformat": 4,
 "nbformat_minor": 5
}
