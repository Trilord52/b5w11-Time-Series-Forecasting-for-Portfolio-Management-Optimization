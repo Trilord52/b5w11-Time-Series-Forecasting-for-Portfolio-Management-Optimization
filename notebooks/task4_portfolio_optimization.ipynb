{
 "cells": [
  {
   "cell_type": "markdown",
   "id": "dfc5365a",
   "metadata": {},
   "source": [
    "# Task 4: Portfolio Optimization\n",
    "# \n",
    "In this notebook, we use the forecasted return for TSLA (from our best model) and historical returns for BND and SPY to construct an optimal portfolio using Modern Portfolio Theory (MPT). We will:\n",
    " - Calculate expected returns and the covariance matrix.\n",
    " - Generate the Efficient Frontier.\n",
    " - Identify the Maximum Sharpe Ratio and Minimum Volatility portfolios.\n",
    " - Visualize the frontier and recommend an optimal allocation.\n",
    " \n",
    "# \n",
    "#  1. Setup and Imports\n"
   ]
  },
  {
   "cell_type": "code",
   "execution_count": null,
   "id": "8221d3b5",
   "metadata": {},
   "outputs": [],
   "source": [
    "# Task 4: Portfolio Optimization using Forecasted and Historical Returns\n",
    "\n",
    "import numpy as np\n",
    "import pandas as pd\n",
    "import matplotlib.pyplot as plt\n",
    "from pypfopt import EfficientFrontier, risk_models, expected_returns, plotting\n"
   ]
  },
  {
   "cell_type": "markdown",
   "id": "ebd129d8",
   "metadata": {},
   "source": [
    "## 2. Load and Prepare Data\n",
    "# \n",
    " We load the processed price data for TSLA, BND, and SPY. If you have run the previous notebooks, these DataFrames should be available. Otherwise, load them from CSV or your data loader.\n"
   ]
  },
  {
   "cell_type": "code",
   "execution_count": null,
   "id": "ac4e1494",
   "metadata": {},
   "outputs": [],
   "source": [
    "\n",
    "# Error handling for missing data\n",
    "try:\n",
    "    tsla_processed = pd.read_csv('../data/TSLA_processed.csv', index_col=0, parse_dates=True)\n",
    "except FileNotFoundError:\n",
    "    print(\"TSLA data file not found. Please run the data loader notebook first.\")\n",
    "# Load processed price data for TSLA, BND, SPY\n",
    "\n",
    "tsla_processed = pd.read_csv('../data/TSLA_processed.csv', index_col=0, parse_dates=True)\n",
    "bnd_processed = pd.read_csv('../data/BND_processed.csv', index_col=0, parse_dates=True)\n",
    "spy_processed = pd.read_csv('../data/SPY_processed.csv', index_col=0, parse_dates=True)\n",
    "\n",
    "# For demonstration, let's assume you have these DataFrames:\n",
    "# tsla_processed['Close'], bnd_processed['Close'], spy_processed['Close']\n",
    "\n",
    "assets = ['TSLA', 'BND', 'SPY']\n",
    "prices = pd.DataFrame({\n",
    "    'TSLA': tsla_processed['Close'],\n",
    "    'BND': bnd_processed['Close'],\n",
    "    'SPY': spy_processed['Close']\n",
    "})\n",
    "\n",
    "# Calculate daily returns\n",
    "returns = prices.pct_change().dropna()\n"
   ]
  },
  {
   "cell_type": "markdown",
   "id": "2731085c",
   "metadata": {},
   "source": [
    " ## 3. Set Expected Returns\n",
    "# \n",
    "- For TSLA, we use the forecasted annualized return from our best model's 12-month forecast.\n",
    "- For BND and SPY, we use historical annualized mean returns.\n"
   ]
  },
  {
   "cell_type": "code",
   "execution_count": null,
   "id": "5e490398",
   "metadata": {},
   "outputs": [],
   "source": [
    "\n",
    "# Use forecasted annualized return for TSLA (from your best model's 12-month forecast)\n",
    "tsla_current = tsla_processed['Close'].iloc[-1]\n",
    "tsla_forecast_end = future_forecast.iloc[-1]\n",
    "tsla_expected_annual_return = (tsla_forecast_end / tsla_current) ** (252/len(future_forecast)) - 1\n",
    "\n",
    "# Use historical annualized mean returns for BND and SPY\n",
    "bnd_expected_annual_return = returns['BND'].mean() * 252\n",
    "spy_expected_annual_return = returns['SPY'].mean() * 252\n",
    "\n",
    "mu = pd.Series({\n",
    "    'TSLA': tsla_expected_annual_return,\n",
    "    'BND': bnd_expected_annual_return,\n",
    "    'SPY': spy_expected_annual_return\n",
    "})\n",
    "\n",
    "print(\"Expected annual returns:\")\n",
    "display(mu)\n"
   ]
  },
  {
   "cell_type": "markdown",
   "id": "d09bcca6",
   "metadata": {},
   "source": [
    "## 4. Covariance Matrix of Returns\n"
   ]
  },
  {
   "cell_type": "code",
   "execution_count": null,
   "id": "6b4dbb61",
   "metadata": {},
   "outputs": [],
   "source": [
    "S = risk_models.sample_cov(returns)\n",
    "print(\"Covariance matrix of returns:\")\n",
    "display(S)"
   ]
  },
  {
   "cell_type": "markdown",
   "id": "375ca70d",
   "metadata": {},
   "source": [
    "## 5. Efficient Frontier Optimization\n",
    "# \n",
    "We use the PyPortfolioOpt library to:\n",
    "- Find the portfolio with the maximum Sharpe ratio (risk-adjusted return).\n",
    "- Find the portfolio with the minimum volatility.\n",
    "- Display the optimal weights and performance metrics.\n"
   ]
  },
  {
   "cell_type": "code",
   "execution_count": null,
   "id": "4bc52874",
   "metadata": {},
   "outputs": [],
   "source": [
    "# Efficient Frontier: Max Sharpe Ratio Portfolio\n",
    "ef = EfficientFrontier(mu, S)\n",
    "ef.add_constraint(lambda w: w <= 0.6)  # Max 60% per asset\n",
    "ef.add_constraint(lambda w: w >= 0)    # No shorting\n",
    "raw_weights = ef.max_sharpe()\n",
    "cleaned_weights = ef.clean_weights()\n",
    "print(\"Optimal Weights (Max Sharpe):\", cleaned_weights)\n",
    "ret, vol, sharpe = ef.portfolio_performance(verbose=True)\n",
    "\n",
    "# Minimum Volatility Portfolio\n",
    "ef_minvol = EfficientFrontier(mu, S)\n",
    "minvol_weights = ef_minvol.min_volatility()\n",
    "minvol_cleaned = ef_minvol.clean_weights()\n",
    "print(\"Optimal Weights (Min Volatility):\", minvol_cleaned)\n",
    "ret_minvol, vol_minvol, sharpe_minvol = ef_minvol.portfolio_performance(verbose=True)\n"
   ]
  },
  {
   "cell_type": "markdown",
   "id": "64053e7a",
   "metadata": {},
   "source": [
    "## 6. Visualize the Efficient Frontier\n"
   ]
  },
  {
   "cell_type": "code",
   "execution_count": null,
   "id": "45db1aeb",
   "metadata": {},
   "outputs": [],
   "source": [
    "fig, ax = plt.subplots(figsize=(10,7))\n",
    "plotting.plot_efficient_frontier(ef, ax=ax, show_assets=True)\n",
    "ax.set_title(\"Efficient Frontier: TSLA, BND, SPY\")\n",
    "plt.show()\n"
   ]
  },
  {
   "cell_type": "markdown",
   "id": "e1979b72",
   "metadata": {},
   "source": [
    "## 7. Compare Portfolio Weights\n"
   ]
  },
  {
   "cell_type": "code",
   "execution_count": null,
   "id": "edb3aa3d",
   "metadata": {},
   "outputs": [],
   "source": [
    "weights_df = pd.DataFrame({\n",
    "    'Max Sharpe': pd.Series(cleaned_weights),\n",
    "    'Min Volatility': pd.Series(minvol_cleaned)\n",
    "})\n",
    "print(\"Portfolio Weights Comparison:\")\n",
    "display(weights_df)"
   ]
  },
  {
   "cell_type": "markdown",
   "id": "a4926228",
   "metadata": {},
   "source": [
    "## 8. Recommendation and Summary\n",
    "# \n",
    "Based on the analysis, we recommend the Max Sharpe portfolio for its superior risk-adjusted return. Below are the recommended weights and expected performance metrics.\n"
   ]
  },
  {
   "cell_type": "code",
   "execution_count": null,
   "id": "b717b38e",
   "metadata": {},
   "outputs": [],
   "source": [
    "print(\"\\nRecommended Portfolio (Max Sharpe):\")\n",
    "for asset, weight in cleaned_weights.items():\n",
    "    print(f\"{asset}: {weight:.2%}\")\n",
    "\n",
    "print(f\"\\nExpected annual return: {ret:.2%}\")\n",
    "print(f\"Annual volatility: {vol:.2%}\")\n",
    "print(f\"Sharpe Ratio: {sharpe:.2f}\")\n",
    "\n",
    "\n",
    "# Save weights for use in backtesting\n",
    "weights_df.to_csv('../results/forecasting/optimal_portfolio_weights.csv')\n",
    "\n"
   ]
  },
  {
   "cell_type": "markdown",
   "id": "2472fded",
   "metadata": {},
   "source": [
    "### **Conclusion**\n",
    "# \n",
    "We have constructed an optimal portfolio using forecasted and historical returns, visualized the efficient frontier, and recommended an allocation that balances risk and return. In the next task, we will backtest this strategy to evaluate its real-world performance."
   ]
  }
 ],
 "metadata": {
  "kernelspec": {
   "display_name": ".venv",
   "language": "python",
   "name": "python3"
  },
  "language_info": {
   "name": "python",
   "version": "3.13.5"
  }
 },
 "nbformat": 4,
 "nbformat_minor": 5
}
